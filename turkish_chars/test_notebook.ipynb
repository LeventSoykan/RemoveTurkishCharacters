{
 "cells": [
  {
   "cell_type": "markdown",
   "id": "c50bbde9",
   "metadata": {},
   "source": [
    "### Notebook fo testing module"
   ]
  },
  {
   "cell_type": "code",
   "execution_count": 1,
   "id": "1f613c15",
   "metadata": {},
   "outputs": [],
   "source": [
    "from turkish_chars import convert_to_eng"
   ]
  },
  {
   "cell_type": "code",
   "execution_count": 2,
   "id": "50d79928",
   "metadata": {},
   "outputs": [
    {
     "data": {
      "text/plain": [
       "'fistikci sahap'"
      ]
     },
     "execution_count": 2,
     "metadata": {},
     "output_type": "execute_result"
    }
   ],
   "source": [
    "convert_to_eng('fıstıkçı şahap')"
   ]
  },
  {
   "cell_type": "code",
   "execution_count": null,
   "id": "f7369fc8",
   "metadata": {},
   "outputs": [],
   "source": []
  }
 ],
 "metadata": {
  "kernelspec": {
   "display_name": "Python 3 (ipykernel)",
   "language": "python",
   "name": "python3"
  },
  "language_info": {
   "codemirror_mode": {
    "name": "ipython",
    "version": 3
   },
   "file_extension": ".py",
   "mimetype": "text/x-python",
   "name": "python",
   "nbconvert_exporter": "python",
   "pygments_lexer": "ipython3",
   "version": "3.11.1"
  }
 },
 "nbformat": 4,
 "nbformat_minor": 5
}
